{
 "cells": [
  {
   "cell_type": "code",
   "execution_count": 18,
   "metadata": {},
   "outputs": [],
   "source": [
    "# Import the module\n",
    "import pandas as pd\n",
    "\n",
    "# Read the excel file\n",
    "df = pd.read_excel(\"Book1.xlsx\")"
   ]
  },
  {
   "cell_type": "code",
   "execution_count": 19,
   "metadata": {},
   "outputs": [],
   "source": [
    "stats = {\n",
    "        \"Sniper\":\"sway = 0.8\",\n",
    "        \"Infiltrator\":\"stealth = 0.75\",\n",
    "        \"Ambusher\":\"speed = 1.25\",\n",
    "        \"Grenadir\":\"carry_weight = 1.5\"\n",
    "        }"
   ]
  },
  {
   "cell_type": "code",
   "execution_count": 20,
   "metadata": {},
   "outputs": [],
   "source": [
    "for i,player in enumerate(df['Player']):\n",
    "\n",
    "    primary = df.loc[i,\"Primary\"]\n",
    "    secondary = df.loc[i,\"Secondary\"]\n",
    "\n",
    "    with open('stats.sqf','a+',encoding='utf-8') as f:\n",
    "        f.write(\n",
    "f\"\"\"{player}_{stats.get(primary)},\n",
    "{player}_{stats.get(secondary)}\\n\"\"\"\n",
    "        )"
   ]
  },
  {
   "cell_type": "code",
   "execution_count": 21,
   "metadata": {},
   "outputs": [
    {
     "data": {
      "text/plain": [
       "CompletedProcess(args=['git', 'push'], returncode=0)"
      ]
     },
     "execution_count": 21,
     "metadata": {},
     "output_type": "execute_result"
    }
   ],
   "source": [
    "import subprocess\n",
    "from datetime import datetime\n",
    "\n",
    "time = datetime.now()\n",
    "\n",
    "subprocess.run([\"git\", \"add\", \"stats.sqf\"]) # Add the file to the staging area\n",
    "subprocess.run([\"git\", \"commit\", \"-m\", f\"stats_update_{time}\"]) # Commit the file with the message\n",
    "subprocess.run([\"git\", \"push\"]) # Push the changes to the remote repository"
   ]
  }
 ],
 "metadata": {
  "kernelspec": {
   "display_name": ".venv",
   "language": "python",
   "name": "python3"
  },
  "language_info": {
   "codemirror_mode": {
    "name": "ipython",
    "version": 3
   },
   "file_extension": ".py",
   "mimetype": "text/x-python",
   "name": "python",
   "nbconvert_exporter": "python",
   "pygments_lexer": "ipython3",
   "version": "3.11.0"
  },
  "orig_nbformat": 4
 },
 "nbformat": 4,
 "nbformat_minor": 2
}
