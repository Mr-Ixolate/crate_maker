{
 "cells": [
  {
   "cell_type": "code",
   "execution_count": 15,
   "metadata": {},
   "outputs": [],
   "source": [
    "# Import the module\n",
    "import pandas as pd\n",
    "\n",
    "# Read the excel file\n",
    "df = pd.read_excel(\"Book1.xlsx\")"
   ]
  },
  {
   "cell_type": "code",
   "execution_count": 16,
   "metadata": {},
   "outputs": [],
   "source": [
    "stats = {\n",
    "        \"Sniper\":\"sway = 0.8\",\n",
    "        \"Infiltrator\":\"stealth = 0.75\",\n",
    "        \"Ambusher\":\"speed = 1.25\",\n",
    "        \"Grenadir\":\"carry_weight = 1.5\"\n",
    "        }"
   ]
  },
  {
   "cell_type": "code",
   "execution_count": 17,
   "metadata": {},
   "outputs": [],
   "source": [
    "for i,player in enumerate(df['Player']):\n",
    "\n",
    "    primary = df.loc[i,\"Primary\"]\n",
    "    secondary = df.loc[i,\"Secondary\"]\n",
    "\n",
    "    with open('stats.sqf','a+',encoding='utf-8') as f:\n",
    "        f.write(\n",
    "f\"\"\"{player}_{stats.get(primary)},\n",
    "{player}_{stats.get(secondary)}\\n\"\"\"\n",
    "        )"
   ]
  }
 ],
 "metadata": {
  "kernelspec": {
   "display_name": ".venv",
   "language": "python",
   "name": "python3"
  },
  "language_info": {
   "codemirror_mode": {
    "name": "ipython",
    "version": 3
   },
   "file_extension": ".py",
   "mimetype": "text/x-python",
   "name": "python",
   "nbconvert_exporter": "python",
   "pygments_lexer": "ipython3",
   "version": "3.11.0"
  },
  "orig_nbformat": 4
 },
 "nbformat": 4,
 "nbformat_minor": 2
}
