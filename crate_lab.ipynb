{
  "cells": [
    {
      "cell_type": "code",
      "source": [
        "# Import python modules\n",
        "import pandas as pd\n",
        "import gspread\n",
        "\n",
        "# Google colab authentication stuff\n",
        "from google.colab import auth\n",
        "auth.authenticate_user()\n",
        "from google.auth import default\n",
        "creds, _ = default()\n",
        "\n",
        "# Mount google drive for access to sheet\n",
        "from google.colab import drive\n",
        "# Change file path\n",
        "drive.mount('/content/drive')"
      ],
      "metadata": {
        "id": "u5x8wWl2dhHV"
      },
      "execution_count": null,
      "outputs": []
    },
    {
      "cell_type": "code",
      "source": [
        "! git clone https://github.com/Mr-Ixolate/crate_maker #clone git repo"
      ],
      "metadata": {
        "id": "SEkOyIcokeIU"
      },
      "execution_count": null,
      "outputs": []
    },
    {
      "cell_type": "code",
      "source": [
        "%cd crate_maker/"
      ],
      "metadata": {
        "id": "5JKHoW-9mSXc"
      },
      "execution_count": null,
      "outputs": []
    },
    {
      "cell_type": "code",
      "source": [
        "!git pull"
      ],
      "metadata": {
        "id": "U2pgtCJouFV-"
      },
      "execution_count": null,
      "outputs": []
    },
    {
      "cell_type": "code",
      "source": [
        "# Open google sheet stuff\n",
        "gc = gspread.authorize(creds)\n",
        "worksheet = gc.open('classes').sheet1\n",
        "rows = worksheet.get_all_values()\n",
        "\n",
        "# Create dataframe of players and classes/subclasses\n",
        "df = pd.DataFrame.from_records(rows)\n",
        "# Fix column headers and reset index\n",
        "df.columns = df.iloc[0]\n",
        "df = df[1:]\n",
        "df.reset_index(drop=True, inplace=True)"
      ],
      "metadata": {
        "id": "G2FjmG5BeVZ3"
      },
      "execution_count": null,
      "outputs": []
    },
    {
      "cell_type": "code",
      "execution_count": null,
      "metadata": {
        "id": "-FHMdqzccw7I"
      },
      "outputs": [],
      "source": [
        "# Define stat blocks here\n",
        "stats = {\n",
        "        \"Sniper\":\"sway = 0.8\",\n",
        "        \"Infiltrator\":\"stealth = 0.75\",\n",
        "        \"Ambusher\":\"speed = 1.25\",\n",
        "        \"Grenadir\":\"carry_weight = 1.5\"\n",
        "        }"
      ]
    },
    {
      "cell_type": "code",
      "execution_count": null,
      "metadata": {
        "id": "y29AjqXNcw7I"
      },
      "outputs": [],
      "source": [
        "# Iterates through players in dataframes\n",
        "for i,player in enumerate(df['Player']):\n",
        "\n",
        "    primary = df.loc[i,\"Primary\"]\n",
        "    secondary = df.loc[i,\"Secondary\"]\n",
        "\n",
        "    # Write to file, consider changing method ie concat str \n",
        "    # rather than append file each time\n",
        "    with open('/content/crate_maker/stats.sqf','a+',encoding='utf-8') as f:\n",
        "        f.write(\n",
        "f\"\"\"{player}_{stats.get(primary)},\n",
        "{player}_{stats.get(secondary)}\\n\"\"\"\n",
        "        )"
      ]
    },
    {
      "cell_type": "code",
      "execution_count": null,
      "metadata": {
        "id": "6182f5uScw7J"
      },
      "outputs": [],
      "source": [
        "import subprocess\n",
        "from datetime import datetime\n",
        "\n",
        "time = datetime.now()\n",
        "\n",
        "subprocess.run([\"git\", \"add\", \"stats.sqf\"]) # Add the file to the staging area\n",
        "subprocess.run([\"git\", \"commit\", \"-m\", f\"stats_update_{time}\"]) # Commit the file with the message"
      ]
    },
    {
      "cell_type": "code",
      "source": [
        "! git push "
      ],
      "metadata": {
        "id": "A95HOvnal7eW"
      },
      "execution_count": null,
      "outputs": []
    }
  ],
  "metadata": {
    "kernelspec": {
      "display_name": ".venv",
      "language": "python",
      "name": "python3"
    },
    "language_info": {
      "codemirror_mode": {
        "name": "ipython",
        "version": 3
      },
      "file_extension": ".py",
      "mimetype": "text/x-python",
      "name": "python",
      "nbconvert_exporter": "python",
      "pygments_lexer": "ipython3",
      "version": "3.11.0"
    },
    "orig_nbformat": 4,
    "colab": {
      "provenance": []
    }
  },
  "nbformat": 4,
  "nbformat_minor": 0
}