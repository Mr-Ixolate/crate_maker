{
 "cells": [
  {
   "cell_type": "code",
   "execution_count": null,
   "metadata": {},
   "outputs": [],
   "source": [
    "from pprint import pprint\n",
    "import re\n",
    "import pandas as pd"
   ]
  },
  {
   "cell_type": "code",
   "execution_count": null,
   "metadata": {},
   "outputs": [],
   "source": [
    "data = []\n",
    "with open(\"crates.sqf\",\"r\",encoding=\"utf-8\") as f:\n",
    "    for line in f.readlines():\n",
    "\n",
    "        name_pattern = r'// Crate \\d{0,2} - (\\S+)'\n",
    "        player = re.match(name_pattern,line)\n",
    "\n",
    "        if player:\n",
    "            a_player = player.group(1)\n",
    "    \n",
    "        pattern = r'(\\S+)\\sadd(\\S+)Cargo\\S+\\s\\[\\\"(\\S+)\\\",\\s(\\d+)\\];\\s//\\s(.*)'\n",
    "        items = re.match(pattern,line)\n",
    "\n",
    "        if items:\n",
    "            crate, item_type, item, quantity, name= items.groups()\n",
    "\n",
    "            data.append([a_player, crate, item_type, item, quantity, name])"
   ]
  },
  {
   "cell_type": "code",
   "execution_count": null,
   "metadata": {},
   "outputs": [],
   "source": [
    "df = pd.DataFrame(data,columns=[\"Player\", \"Crate\", \"ItemType\", \"ItemID\", \"ItemQuantity\", \"ItemName\"])"
   ]
  },
  {
   "cell_type": "code",
   "execution_count": null,
   "metadata": {},
   "outputs": [],
   "source": [
    "df[df['Player'] == \"Kezz\"]"
   ]
  },
  {
   "cell_type": "code",
   "execution_count": null,
   "metadata": {},
   "outputs": [],
   "source": [
    "def line_breaker(line:str)-> list:\n",
    "    \"\"\"Function to break a line of the inventory script into its components using regex\n",
    "    \"\"\"\n",
    "    pattern = r'(\\S+)\\sadd(\\S+)Cargo\\S+\\s\\[\\\"(\\S+)\\\",\\s(\\d+)\\];\\s//\\s(.*)'\n",
    "    matches = re.match(pattern, line)\n",
    "    matches = list(matches.groups())\n",
    "    return matches"
   ]
  },
  {
   "cell_type": "code",
   "execution_count": null,
   "metadata": {},
   "outputs": [],
   "source": [
    "full_row = line_breaker(line)\n",
    "full_row.append('ixo')\n",
    "full_row\n"
   ]
  },
  {
   "cell_type": "code",
   "execution_count": null,
   "metadata": {},
   "outputs": [],
   "source": [
    "# Test strings\n",
    "\n",
    "'crate12 addWeaponCargoGlobal [\"vn_w_m16a1\", 2]; // M16A1 Rifle'\n",
    "'crate34 addMagazineCargoGlobal [\"vn_m_m16_20_t\", 10]; // M16A1 Magazines'\n",
    "'crate56 addItemCargoGlobal [\"vn_b_item_map\", 1]; // Map'\n",
    "'crate78 addBackpackCargoGlobal [\"vn_b_pack_lw_01\", 1]; // Pack Army Rifleman'\n",
    "'crate90 addBackpackCargoGlobal [\"vn_b_pack_lw_01\", 1] // Pack Army Rifleman'"
   ]
  }
 ],
 "metadata": {
  "kernelspec": {
   "display_name": "Python 3",
   "language": "python",
   "name": "python3"
  },
  "language_info": {
   "codemirror_mode": {
    "name": "ipython",
    "version": 3
   },
   "file_extension": ".py",
   "mimetype": "text/x-python",
   "name": "python",
   "nbconvert_exporter": "python",
   "pygments_lexer": "ipython3",
   "version": "3.10.6"
  },
  "orig_nbformat": 4
 },
 "nbformat": 4,
 "nbformat_minor": 2
}
