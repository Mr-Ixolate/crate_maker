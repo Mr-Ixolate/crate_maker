{
 "cells": [
  {
   "cell_type": "code",
   "execution_count": null,
   "metadata": {},
   "outputs": [],
   "source": [
    "from pprint import pprint\n",
    "import re\n",
    "import pandas as pd"
   ]
  },
  {
   "cell_type": "code",
   "execution_count": null,
   "metadata": {},
   "outputs": [],
   "source": [
    "data = []\n",
    "with open(\"crates.sqf\",\"r\",encoding=\"utf-8\") as f:\n",
    "    for line in f.readlines():\n",
    "\n",
    "        name_pattern = r'// Crate \\d+ - (\\S+)'\n",
    "        player = re.match(name_pattern,line)\n",
    "\n",
    "        if player:\n",
    "            a_player = player.group(1)\n",
    "    \n",
    "        pattern = r'(\\S+)\\sadd(\\S+)Cargo\\S+\\s\\[\\\"(\\S+)\\\",\\s(\\d+)\\];\\s//\\s(.*)'\n",
    "        items = re.match(pattern,line)\n",
    "\n",
    "        if items:\n",
    "            crate, item_type, item_id, quantity, item_name= items.groups()\n",
    "\n",
    "            data.append([a_player, crate, item_type, item_id, quantity, item_name])"
   ]
  },
  {
   "cell_type": "code",
   "execution_count": null,
   "metadata": {},
   "outputs": [],
   "source": [
    "df = pd.DataFrame(data,columns=[\"Player\", \"Crate\", \"ItemType\", \"ItemID\", \"ItemQuantity\", \"ItemName\"])"
   ]
  },
  {
   "cell_type": "code",
   "execution_count": null,
   "metadata": {},
   "outputs": [],
   "source": [
    "item_df = df[['Crate','ItemID']]\n",
    "item_df[item_df.duplicated()]"
   ]
  },
  {
   "cell_type": "code",
   "execution_count": null,
   "metadata": {},
   "outputs": [],
   "source": [
    "def line_breaker(line:str)-> list:\n",
    "    \"\"\"Function to break a line of the inventory script into its components using regex\n",
    "    \"\"\"\n",
    "    pattern = r'(\\S+)\\sadd(\\S+)Cargo\\S+\\s\\[\\\"(\\S+)\\\",\\s(\\d+)\\];\\s//\\s(.*)'\n",
    "    matches = re.match(pattern, line)\n",
    "    matches = list(matches.groups())\n",
    "    return matches"
   ]
  },
  {
   "cell_type": "code",
   "execution_count": null,
   "metadata": {},
   "outputs": [],
   "source": [
    "full_row = line_breaker(line)\n",
    "full_row.append('ixo')\n",
    "full_row\n"
   ]
  },
  {
   "cell_type": "code",
   "execution_count": null,
   "metadata": {},
   "outputs": [],
   "source": [
    "# Test strings\n",
    "\n",
    "'crate12 addWeaponCargoGlobal [\"vn_w_m16a1\", 2]; // M16A1 Rifle'\n",
    "'crate34 addMagazineCargoGlobal [\"vn_m_m16_20_t\", 10]; // M16A1 Magazines'\n",
    "'crate56 addItemCargoGlobal [\"vn_b_item_map\", 1]; // Map'\n",
    "'crate78 addBackpackCargoGlobal [\"vn_b_pack_lw_01\", 1]; // Pack Army Rifleman'\n",
    "'crate90 addBackpackCargoGlobal [\"vn_b_pack_lw_01\", 1] // Pack Army Rifleman'"
   ]
  },
  {
   "cell_type": "code",
   "execution_count": null,
   "metadata": {},
   "outputs": [],
   "source": [
    "df_item = pd.read_json(\"Test_Files/test_input.json\",orient='values')\n",
    "df_item = pd.DataFrame(df_item.values[1:], columns=df_item.values[0])\n",
    "#df_item.columns = df_item.iloc[0]\n",
    "#df_item = df_item[1:]\n",
    "df_item"
   ]
  },
  {
   "cell_type": "code",
   "execution_count": null,
   "metadata": {},
   "outputs": [],
   "source": [
    "pd.read_json(\"Test_Files/test_input2.json\")\n"
   ]
  },
  {
   "cell_type": "code",
   "execution_count": null,
   "metadata": {},
   "outputs": [],
   "source": [
    "data = {\n",
    "    'ID':['M16','M177','M1870','M16'],\n",
    "    'quant':[1,1,1,1]\n",
    "}\n",
    "df_comb = pd.DataFrame(data)"
   ]
  },
  {
   "cell_type": "code",
   "execution_count": null,
   "metadata": {},
   "outputs": [],
   "source": [
    "df_comb.groupby('ID').sum()"
   ]
  }
 ],
 "metadata": {
  "kernelspec": {
   "display_name": "Python 3.10.6 ('.venv': venv)",
   "language": "python",
   "name": "python3"
  },
  "language_info": {
   "codemirror_mode": {
    "name": "ipython",
    "version": 3
   },
   "file_extension": ".py",
   "mimetype": "text/x-python",
   "name": "python",
   "nbconvert_exporter": "python",
   "pygments_lexer": "ipython3",
   "version": "3.10.12"
  },
  "orig_nbformat": 4,
  "vscode": {
   "interpreter": {
    "hash": "8bccab628ae6f95933d7ac113455aa9bf8ef9ae63589346019bb5da911eeb949"
   }
  }
 },
 "nbformat": 4,
 "nbformat_minor": 2
}
